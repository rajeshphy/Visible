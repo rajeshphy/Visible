{
 "cells": [
  {
   "cell_type": "code",
   "execution_count": 1,
   "id": "c9c0bf3e",
   "metadata": {},
   "outputs": [],
   "source": [
    "from sympy import Symbol, Matrix"
   ]
  },
  {
   "cell_type": "code",
   "execution_count": 8,
   "id": "81f442b1",
   "metadata": {},
   "outputs": [],
   "source": [
    "\n",
    "a = Symbol('a')\n",
    "b = Symbol('b')\n",
    "c = Symbol('c')\n",
    "p = Symbol('p')\n",
    "q = Symbol('q')\n",
    "r = Symbol('r')\n",
    "\n",
    "M = Matrix(3, 3, [a,p ,r , p, b , p, r, p , a])\n"
   ]
  },
  {
   "cell_type": "code",
   "execution_count": 9,
   "id": "09cd6e63",
   "metadata": {},
   "outputs": [
    {
     "data": {
      "text/latex": [
       "$\\displaystyle \\left[\\begin{matrix}a & p & r\\\\p & b & p\\\\r & p & a\\end{matrix}\\right]$"
      ],
      "text/plain": [
       "Matrix([\n",
       "[a, p, r],\n",
       "[p, b, p],\n",
       "[r, p, a]])"
      ]
     },
     "execution_count": 9,
     "metadata": {},
     "output_type": "execute_result"
    }
   ],
   "source": [
    "M"
   ]
  },
  {
   "cell_type": "code",
   "execution_count": 10,
   "id": "9518b5ec",
   "metadata": {},
   "outputs": [],
   "source": [
    "(P,D)=M.diagonalize(reals_only=False, sort=False, normalize=False)"
   ]
  },
  {
   "cell_type": "code",
   "execution_count": 11,
   "id": "9fe91475",
   "metadata": {},
   "outputs": [
    {
     "data": {
      "text/latex": [
       "$\\displaystyle \\left[\\begin{matrix}a - r & 0 & 0\\\\0 & \\frac{a}{2} + \\frac{b}{2} + \\frac{r}{2} - \\frac{\\sqrt{a^{2} - 2 a b + 2 a r + b^{2} - 2 b r + 8 p^{2} + r^{2}}}{2} & 0\\\\0 & 0 & \\frac{a}{2} + \\frac{b}{2} + \\frac{r}{2} + \\frac{\\sqrt{a^{2} - 2 a b + 2 a r + b^{2} - 2 b r + 8 p^{2} + r^{2}}}{2}\\end{matrix}\\right]$"
      ],
      "text/plain": [
       "Matrix([\n",
       "[a - r,                                                                             0,                                                                             0],\n",
       "[    0, a/2 + b/2 + r/2 - sqrt(a**2 - 2*a*b + 2*a*r + b**2 - 2*b*r + 8*p**2 + r**2)/2,                                                                             0],\n",
       "[    0,                                                                             0, a/2 + b/2 + r/2 + sqrt(a**2 - 2*a*b + 2*a*r + b**2 - 2*b*r + 8*p**2 + r**2)/2]])"
      ]
     },
     "execution_count": 11,
     "metadata": {},
     "output_type": "execute_result"
    }
   ],
   "source": [
    "D"
   ]
  },
  {
   "cell_type": "code",
   "execution_count": null,
   "id": "d1a75937",
   "metadata": {},
   "outputs": [],
   "source": []
  }
 ],
 "metadata": {
  "kernelspec": {
   "display_name": "Python 3 (ipykernel)",
   "language": "python",
   "name": "python3"
  },
  "language_info": {
   "codemirror_mode": {
    "name": "ipython",
    "version": 3
   },
   "file_extension": ".py",
   "mimetype": "text/x-python",
   "name": "python",
   "nbconvert_exporter": "python",
   "pygments_lexer": "ipython3",
   "version": "3.11.6"
  }
 },
 "nbformat": 4,
 "nbformat_minor": 5
}
