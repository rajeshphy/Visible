{
 "cells": [
  {
   "cell_type": "code",
   "execution_count": 1,
   "id": "a9f5fa71-76c5-4ee0-bdf1-5409948c72cf",
   "metadata": {},
   "outputs": [],
   "source": [
    "from sympy import Symbol, pprint, Matrix"
   ]
  },
  {
   "cell_type": "code",
   "execution_count": 11,
   "id": "592afa9f-1801-423f-84e8-7b277a3aaa5e",
   "metadata": {},
   "outputs": [],
   "source": [
    "a = Symbol('a')\n",
    "b = Symbol('b')\n",
    "c = Symbol('c')\n",
    "d = Symbol('d')\n",
    "e = Symbol('e')\n",
    "f = Symbol('f')\n",
    "g = Symbol('g')\n",
    "h = Symbol('h')\n",
    "i = Symbol('i')\n",
    "M = Matrix(3, 3, [a, b, c, b, d , b, c, b , a])"
   ]
  },
  {
   "cell_type": "code",
   "execution_count": 12,
   "id": "329b8ba5-57f5-48e2-a292-83a098a6aed3",
   "metadata": {},
   "outputs": [],
   "source": [
    "(P,D)=M.diagonalize(reals_only=False, sort=False, normalize=False)"
   ]
  },
  {
   "cell_type": "code",
   "execution_count": 14,
   "id": "295865a9-5d67-4c83-9372-1ea33b212251",
   "metadata": {},
   "outputs": [
    {
     "data": {
      "text/latex": [
       "$\\displaystyle \\left[\\begin{matrix}a - c & 0 & 0\\\\0 & \\frac{a}{2} + \\frac{c}{2} + \\frac{d}{2} - \\frac{\\sqrt{a^{2} + 2 a c - 2 a d + 8 b^{2} + c^{2} - 2 c d + d^{2}}}{2} & 0\\\\0 & 0 & \\frac{a}{2} + \\frac{c}{2} + \\frac{d}{2} + \\frac{\\sqrt{a^{2} + 2 a c - 2 a d + 8 b^{2} + c^{2} - 2 c d + d^{2}}}{2}\\end{matrix}\\right]$"
      ],
      "text/plain": [
       "Matrix([\n",
       "[a - c,                                                                             0,                                                                             0],\n",
       "[    0, a/2 + c/2 + d/2 - sqrt(a**2 + 2*a*c - 2*a*d + 8*b**2 + c**2 - 2*c*d + d**2)/2,                                                                             0],\n",
       "[    0,                                                                             0, a/2 + c/2 + d/2 + sqrt(a**2 + 2*a*c - 2*a*d + 8*b**2 + c**2 - 2*c*d + d**2)/2]])"
      ]
     },
     "execution_count": 14,
     "metadata": {},
     "output_type": "execute_result"
    }
   ],
   "source": [
    "D"
   ]
  },
  {
   "cell_type": "code",
   "execution_count": null,
   "id": "0f977590-9660-4f0a-bc47-5dbc477909e7",
   "metadata": {},
   "outputs": [],
   "source": []
  }
 ],
 "metadata": {
  "kernelspec": {
   "display_name": "Python 3 (ipykernel)",
   "language": "python",
   "name": "python3"
  },
  "language_info": {
   "codemirror_mode": {
    "name": "ipython",
    "version": 3
   },
   "file_extension": ".py",
   "mimetype": "text/x-python",
   "name": "python",
   "nbconvert_exporter": "python",
   "pygments_lexer": "ipython3",
   "version": "3.11.6"
  }
 },
 "nbformat": 4,
 "nbformat_minor": 5
}
